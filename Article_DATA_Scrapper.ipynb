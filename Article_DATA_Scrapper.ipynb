{
 "cells": [
  {
   "cell_type": "code",
   "execution_count": 1,
   "metadata": {},
   "outputs": [],
   "source": [
    "import nltk\n",
    "from newspaper import Article"
   ]
  },
  {
   "cell_type": "code",
   "execution_count": 2,
   "metadata": {},
   "outputs": [],
   "source": [
    "url = 'https://techcrunch.com/2022/06/09/good-capital-chris-saccas-lowercarbon-back-indias-solarsquare/'\n",
    "article = Article(url)"
   ]
  },
  {
   "cell_type": "code",
   "execution_count": 3,
   "metadata": {},
   "outputs": [
    {
     "name": "stderr",
     "output_type": "stream",
     "text": [
      "[nltk_data] Downloading package punkt to\n",
      "[nltk_data]     C:\\Users\\abhis\\AppData\\Roaming\\nltk_data...\n",
      "[nltk_data]   Package punkt is already up-to-date!\n"
     ]
    }
   ],
   "source": [
    "# NLP Processsing \n",
    "article.download()\n",
    "article.parse()\n",
    "nltk.download('punkt')\n",
    "article.nlp()"
   ]
  },
  {
   "cell_type": "code",
   "execution_count": 4,
   "metadata": {},
   "outputs": [
    {
     "data": {
      "text/plain": [
       "['Harsh Upadhyay', 'Kunal Manchanda', 'Md Salman Ashrafi', 'Gaurav Tyagi']"
      ]
     },
     "execution_count": 4,
     "metadata": {},
     "output_type": "execute_result"
    }
   ],
   "source": [
    "# Authors\n",
    "article.authors"
   ]
  },
  {
   "cell_type": "code",
   "execution_count": 5,
   "metadata": {},
   "outputs": [
    {
     "data": {
      "text/plain": [
       "datetime.datetime(2022, 6, 8, 6, 22, 39, tzinfo=tzutc())"
      ]
     },
     "execution_count": 5,
     "metadata": {},
     "output_type": "execute_result"
    }
   ],
   "source": [
    "# Get the publish date\n",
    "article.publish_date "
   ]
  },
  {
   "cell_type": "code",
   "execution_count": 6,
   "metadata": {},
   "outputs": [
    {
     "data": {
      "text/plain": [
       "'https://entrackr-bucket.s3.ap-south-1.amazonaws.com/wp-content/uploads/2022/06/08113800/kissht.jpg'"
      ]
     },
     "execution_count": 6,
     "metadata": {},
     "output_type": "execute_result"
    }
   ],
   "source": [
    "# First Image of Article\n",
    "article.top_image"
   ]
  },
  {
   "cell_type": "code",
   "execution_count": 7,
   "metadata": {},
   "outputs": [
    {
     "name": "stdout",
     "output_type": "stream",
     "text": [
      "Consumer lending company Kissht has raised $80 million in a new round led by Vertex Growth and Brunei Investment Agency. Existing investors Vertex Ventures SEA India and Endiya Partners also participated in the round.\n",
      "\n",
      "For Kissht, this is the second funding round in 2022. The Mumbai-based startup had secured Rs 100 crore or $13.3 million in debt from Trifecta Capital and Northern Arc in Jan. So far, it has scooped up around $275 million across equity and debt rounds.\n",
      "\n",
      "The company will deploy the fresh proceeds toward enhancing its product design, scaling up card issuances to 10 million in the next 12-18 months, increasing its book size and improving its technology backend, said Kissht in a release.\n",
      "\n",
      "While the company did not disclose its valuation, an ET report estimated it at around $500 million citing sources.\n",
      "\n",
      "Kissht will also foray into Slice, Uni and OneCard domain, where it will issue its buy-now-pay-later (BNPL) cards in association with RBL and SBM Bank to customers linked with a credit line.\n",
      "\n",
      "Founded in 2015, Kissht provides an instant line of credit for small business transactions and small ticket size personal loans to new to credit customers on the back of robust data analytics (Kissht score). It has networked with over 3000 offline merchants and more than 50 online stores in about 40 cities in India.\n",
      "\n",
      "The company claims that it has close to 3.2 million consumers on its platform, of which more than 50% are active monthly.\n",
      "\n",
      "According to Kissht, its total consolidated revenue was Rs 410 crore in fiscal year FY22 and profits before tax was Rs 55 crore. However, Onemi Technology Solutions, the holding company of Kissht saw a decline in its operating revenue in the fiscal year 2020-21 or FY21. Its operating revenue shrank 31.7% to Rs 170.3 crore during FY21 from Rs 249.52 crore in FY20 as per the company’s regulatory filings filed with RoC. The company’s annual losses also jumped 2.7X to Rs 58.45 crore in FY21 from Rs 22.05 crore in the previous fiscal year (FY20).\n"
     ]
    }
   ],
   "source": [
    "# Getting the Text\n",
    "print(article.text)"
   ]
  },
  {
   "cell_type": "code",
   "execution_count": 8,
   "metadata": {},
   "outputs": [
    {
     "name": "stdout",
     "output_type": "stream",
     "text": [
      "Consumer lending company Kissht has raised $80 million in a new round led by Vertex Growth and Brunei Investment Agency.\n",
      "According to Kissht, its total consolidated revenue was Rs 410 crore in fiscal year FY22 and profits before tax was Rs 55 crore.\n",
      "However, Onemi Technology Solutions, the holding company of Kissht saw a decline in its operating revenue in the fiscal year 2020-21 or FY21.\n",
      "Its operating revenue shrank 31.7% to Rs 170.3 crore during FY21 from Rs 249.52 crore in FY20 as per the company’s regulatory filings filed with RoC.\n",
      "The company’s annual losses also jumped 2.7X to Rs 58.45 crore in FY21 from Rs 22.05 crore in the previous fiscal year (FY20).\n"
     ]
    }
   ],
   "source": [
    "# Get a summary of article\n",
    "print(article.summary)"
   ]
  },
  {
   "cell_type": "code",
   "execution_count": 9,
   "metadata": {},
   "outputs": [
    {
     "name": "stdout",
     "output_type": "stream",
     "text": [
      "Lending company Kissht raises $80 Mn in a new round\n"
     ]
    }
   ],
   "source": [
    "print(article.title) "
   ]
  }
 ],
 "metadata": {
  "interpreter": {
   "hash": "369f2c481f4da34e4445cda3fffd2e751bd1c4d706f27375911949ba6bb62e1c"
  },
  "kernelspec": {
   "display_name": "Python 3.10.4 64-bit",
   "language": "python",
   "name": "python3"
  },
  "language_info": {
   "codemirror_mode": {
    "name": "ipython",
    "version": 3
   },
   "file_extension": ".py",
   "mimetype": "text/x-python",
   "name": "python",
   "nbconvert_exporter": "python",
   "pygments_lexer": "ipython3",
   "version": "3.10.4"
  },
  "orig_nbformat": 4
 },
 "nbformat": 4,
 "nbformat_minor": 2
}
